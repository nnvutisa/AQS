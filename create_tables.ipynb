{
 "cells": [
  {
   "cell_type": "markdown",
   "metadata": {
    "deletable": true,
    "editable": true
   },
   "source": [
    "## Creating new files that only contain relevant data"
   ]
  },
  {
   "cell_type": "code",
   "execution_count": 1,
   "metadata": {
    "collapsed": false,
    "deletable": true,
    "editable": true
   },
   "outputs": [],
   "source": [
    "import numpy as np\n",
    "import pandas as pd\n",
    "import matplotlib.pyplot as plt\n",
    "%matplotlib inline"
   ]
  },
  {
   "cell_type": "markdown",
   "metadata": {
    "deletable": true,
    "editable": true
   },
   "source": [
    "Loading AQI calculation functions."
   ]
  },
  {
   "cell_type": "code",
   "execution_count": 2,
   "metadata": {
    "collapsed": true,
    "deletable": true,
    "editable": true
   },
   "outputs": [],
   "source": [
    "from calculations import *"
   ]
  },
  {
   "cell_type": "markdown",
   "metadata": {
    "deletable": true,
    "editable": true
   },
   "source": [
    "Read the csv file exported from the BigQuery data. This file contains all entries from the 'air_quality_annual_summary' table where parameter_code matches the list of parameters we are interested in. "
   ]
  },
  {
   "cell_type": "code",
   "execution_count": 2,
   "metadata": {
    "collapsed": false,
    "deletable": true,
    "editable": true
   },
   "outputs": [
    {
     "name": "stderr",
     "output_type": "stream",
     "text": [
      "/Users/pear/anaconda/lib/python2.7/site-packages/IPython/core/interactiveshell.py:2723: DtypeWarning: Columns (0,38,40) have mixed types. Specify dtype option on import or set low_memory=False.\n",
      "  interactivity=interactivity, compiler=compiler, result=result)\n"
     ]
    }
   ],
   "source": [
    "annual = pd.read_csv('air_quality_annual_summary.csv')"
   ]
  },
  {
   "cell_type": "code",
   "execution_count": 3,
   "metadata": {
    "collapsed": false,
    "deletable": true,
    "editable": true
   },
   "outputs": [
    {
     "data": {
      "text/plain": [
       "Index([u'state_code', u'county_code', u'site_num', u'parameter_code', u'poc',\n",
       "       u'latitude', u'longitude', u'datum', u'parameter_name',\n",
       "       u'sample_duration', u'pollutant_standard', u'metric_used',\n",
       "       u'method_name', u'year', u'units_of_measure', u'event_type',\n",
       "       u'observation_count', u'observation_percent', u'completeness_indicator',\n",
       "       u'valid_day_count', u'required_day_count', u'exceptional_data_count',\n",
       "       u'null_data_count', u'primary_exceedance_count',\n",
       "       u'secondary_exceedance_count', u'certification_indicator',\n",
       "       u'num_obs_below_mdl', u'arithmetic_mean', u'arithmetic_standard_dev',\n",
       "       u'first_max_value', u'first_max_datetime', u'second_max_value',\n",
       "       u'second_max_datetime', u'third_max_value', u'third_max_datetime',\n",
       "       u'fourth_max_value', u'fourth_max_datetime',\n",
       "       u'first_max_non_overlapping_value', u'first_no_max_datetime',\n",
       "       u'second_max_non_overlapping_value', u'second_no_max_datetime',\n",
       "       u'ninety_nine_percentile', u'ninety_eight_percentile',\n",
       "       u'ninety_five_percentile', u'ninety_percentile',\n",
       "       u'seventy_five_percentile', u'fifty_percentile', u'ten_percentile',\n",
       "       u'local_site_name', u'address', u'state_name', u'county_name',\n",
       "       u'city_name', u'cbsa_name', u'date_of_last_change'],\n",
       "      dtype='object')"
      ]
     },
     "execution_count": 3,
     "metadata": {},
     "output_type": "execute_result"
    }
   ],
   "source": [
    "annual.columns"
   ]
  },
  {
   "cell_type": "markdown",
   "metadata": {
    "deletable": true,
    "editable": true
   },
   "source": [
    "List the parameters in this dataframe."
   ]
  },
  {
   "cell_type": "code",
   "execution_count": 28,
   "metadata": {
    "collapsed": false,
    "deletable": true,
    "editable": true
   },
   "outputs": [
    {
     "data": {
      "text/plain": [
       "array(['Ozone', 'Lead PM2.5 LC', 'Sulfur dioxide', 'Carbon monoxide',\n",
       "       'Outdoor Temperature', 'PM10 Total 0-10um STP',\n",
       "       'Nitrogen dioxide (NO2)', 'PM2.5 - Local Conditions'], dtype=object)"
      ]
     },
     "execution_count": 28,
     "metadata": {},
     "output_type": "execute_result"
    }
   ],
   "source": [
    "annual['parameter_name'].unique()"
   ]
  },
  {
   "cell_type": "markdown",
   "metadata": {
    "deletable": true,
    "editable": true
   },
   "source": [
    "### Creating a new table with top 20 cities"
   ]
  },
  {
   "cell_type": "code",
   "execution_count": 3,
   "metadata": {
    "collapsed": true,
    "deletable": true,
    "editable": true
   },
   "outputs": [],
   "source": [
    "column_list = ['site_num','parameter_code','parameter_name','sample_duration','pollutant_standard',\n",
    "              'metric_used','method_name','year','units_of_measure','event_type','observation_count',\n",
    "              'arithmetic_mean','first_max_value','ninety_percentile','ten_percentile','state_name',\n",
    "              'city_name']"
   ]
  },
  {
   "cell_type": "code",
   "execution_count": 3,
   "metadata": {
    "collapsed": true,
    "deletable": true,
    "editable": true
   },
   "outputs": [],
   "source": [
    "city_list = ['New York','Los Angeles','Chicago','Houston','Phoenix','Philadelphia',\n",
    "            'San Antonio','San Diego','Dallas','San Jose','Austin','Jacksonville',\n",
    "            'San Francisco','Columbus','Indianapolis','Fort Worth','Charlotte','Seattle',\n",
    "            'Seattle','Denver','El Paso']"
   ]
  },
  {
   "cell_type": "code",
   "execution_count": 31,
   "metadata": {
    "collapsed": true,
    "deletable": true,
    "editable": true
   },
   "outputs": [],
   "source": [
    "top_city_annual = annual[column_list][annual['city_name'].isin(city_list)]"
   ]
  },
  {
   "cell_type": "code",
   "execution_count": 32,
   "metadata": {
    "collapsed": false,
    "deletable": true,
    "editable": true
   },
   "outputs": [
    {
     "data": {
      "text/plain": [
       "28054"
      ]
     },
     "execution_count": 32,
     "metadata": {},
     "output_type": "execute_result"
    }
   ],
   "source": [
    "len(top_city_annual)"
   ]
  },
  {
   "cell_type": "code",
   "execution_count": 5,
   "metadata": {
    "collapsed": false,
    "deletable": true,
    "editable": true
   },
   "outputs": [],
   "source": [
    "#Keeping track of memory usage\n",
    "import os, psutil\n",
    "def usage():\n",
    "    process = psutil.Process(os.getpid())\n",
    "    return process.memory_info()[0] / float(2 ** 20)"
   ]
  },
  {
   "cell_type": "code",
   "execution_count": 6,
   "metadata": {
    "collapsed": false,
    "deletable": true,
    "editable": true
   },
   "outputs": [
    {
     "data": {
      "text/plain": [
       "66.2421875"
      ]
     },
     "execution_count": 6,
     "metadata": {},
     "output_type": "execute_result"
    }
   ],
   "source": [
    "usage()"
   ]
  },
  {
   "cell_type": "code",
   "execution_count": 46,
   "metadata": {
    "collapsed": true,
    "deletable": true,
    "editable": true
   },
   "outputs": [],
   "source": [
    "#saving the intermediate table so we can free up some memory\n",
    "top_city_annual.to_csv('top_city_annual.csv')"
   ]
  },
  {
   "cell_type": "code",
   "execution_count": 33,
   "metadata": {
    "collapsed": true,
    "deletable": true,
    "editable": true
   },
   "outputs": [],
   "source": [
    "#reading the file\n",
    "top_city_annual = pd.read_csv('top_city_annual.csv')"
   ]
  },
  {
   "cell_type": "code",
   "execution_count": 58,
   "metadata": {
    "collapsed": false,
    "deletable": true,
    "editable": true
   },
   "outputs": [
    {
     "data": {
      "text/html": [
       "<div>\n",
       "<table border=\"1\" class=\"dataframe\">\n",
       "  <thead>\n",
       "    <tr style=\"text-align: right;\">\n",
       "      <th></th>\n",
       "      <th>Unnamed: 0</th>\n",
       "      <th>site_num</th>\n",
       "      <th>parameter_code</th>\n",
       "      <th>parameter_name</th>\n",
       "      <th>sample_duration</th>\n",
       "      <th>pollutant_standard</th>\n",
       "      <th>metric_used</th>\n",
       "      <th>method_name</th>\n",
       "      <th>year</th>\n",
       "      <th>units_of_measure</th>\n",
       "      <th>event_type</th>\n",
       "      <th>observation_count</th>\n",
       "      <th>arithmetic_mean</th>\n",
       "      <th>first_max_value</th>\n",
       "      <th>ninety_percentile</th>\n",
       "      <th>ten_percentile</th>\n",
       "      <th>state_name</th>\n",
       "      <th>city_name</th>\n",
       "    </tr>\n",
       "  </thead>\n",
       "  <tbody>\n",
       "    <tr>\n",
       "      <th>6982</th>\n",
       "      <td>102814</td>\n",
       "      <td>76</td>\n",
       "      <td>42401</td>\n",
       "      <td>Sulfur dioxide</td>\n",
       "      <td>3-HR BLK AVG</td>\n",
       "      <td>SO2 3-hour 1971</td>\n",
       "      <td>3-Hour block average of observed hourly values</td>\n",
       "      <td>NaN</td>\n",
       "      <td>2012</td>\n",
       "      <td>Parts per billion</td>\n",
       "      <td>No Events</td>\n",
       "      <td>2657</td>\n",
       "      <td>1.777418</td>\n",
       "      <td>15.3</td>\n",
       "      <td>4.0</td>\n",
       "      <td>0.0</td>\n",
       "      <td>Illinois</td>\n",
       "      <td>Chicago</td>\n",
       "    </tr>\n",
       "    <tr>\n",
       "      <th>19686</th>\n",
       "      <td>291479</td>\n",
       "      <td>76</td>\n",
       "      <td>42401</td>\n",
       "      <td>Sulfur dioxide</td>\n",
       "      <td>1 HOUR</td>\n",
       "      <td>SO2 1-hour 2010</td>\n",
       "      <td>Daily maximum 1-hour average</td>\n",
       "      <td>INSTRUMENTAL - ULTRA VIOLET FLUORESCENCE</td>\n",
       "      <td>2012</td>\n",
       "      <td>Parts per billion</td>\n",
       "      <td>No Events</td>\n",
       "      <td>8040</td>\n",
       "      <td>4.041667</td>\n",
       "      <td>18.0</td>\n",
       "      <td>8.0</td>\n",
       "      <td>1.0</td>\n",
       "      <td>Illinois</td>\n",
       "      <td>Chicago</td>\n",
       "    </tr>\n",
       "    <tr>\n",
       "      <th>21423</th>\n",
       "      <td>317387</td>\n",
       "      <td>76</td>\n",
       "      <td>42401</td>\n",
       "      <td>Sulfur dioxide</td>\n",
       "      <td>1 HOUR</td>\n",
       "      <td>SO2 Annual 1971</td>\n",
       "      <td>Observed Values</td>\n",
       "      <td>INSTRUMENTAL - ULTRA VIOLET FLUORESCENCE</td>\n",
       "      <td>2012</td>\n",
       "      <td>Parts per billion</td>\n",
       "      <td>No Events</td>\n",
       "      <td>8040</td>\n",
       "      <td>1.794652</td>\n",
       "      <td>18.0</td>\n",
       "      <td>4.0</td>\n",
       "      <td>0.0</td>\n",
       "      <td>Illinois</td>\n",
       "      <td>Chicago</td>\n",
       "    </tr>\n",
       "    <tr>\n",
       "      <th>27616</th>\n",
       "      <td>406566</td>\n",
       "      <td>76</td>\n",
       "      <td>42401</td>\n",
       "      <td>Sulfur dioxide</td>\n",
       "      <td>24-HR BLK AVG</td>\n",
       "      <td>SO2 24-hour 1971</td>\n",
       "      <td>Daily Average of observed values</td>\n",
       "      <td>NaN</td>\n",
       "      <td>2012</td>\n",
       "      <td>Parts per billion</td>\n",
       "      <td>No Events</td>\n",
       "      <td>336</td>\n",
       "      <td>1.793155</td>\n",
       "      <td>9.4</td>\n",
       "      <td>3.5</td>\n",
       "      <td>0.3</td>\n",
       "      <td>Illinois</td>\n",
       "      <td>Chicago</td>\n",
       "    </tr>\n",
       "  </tbody>\n",
       "</table>\n",
       "</div>"
      ],
      "text/plain": [
       "       Unnamed: 0  site_num  parameter_code  parameter_name sample_duration  \\\n",
       "6982       102814        76           42401  Sulfur dioxide    3-HR BLK AVG   \n",
       "19686      291479        76           42401  Sulfur dioxide          1 HOUR   \n",
       "21423      317387        76           42401  Sulfur dioxide          1 HOUR   \n",
       "27616      406566        76           42401  Sulfur dioxide   24-HR BLK AVG   \n",
       "\n",
       "      pollutant_standard                                     metric_used  \\\n",
       "6982     SO2 3-hour 1971  3-Hour block average of observed hourly values   \n",
       "19686    SO2 1-hour 2010                    Daily maximum 1-hour average   \n",
       "21423    SO2 Annual 1971                                 Observed Values   \n",
       "27616   SO2 24-hour 1971                Daily Average of observed values   \n",
       "\n",
       "                                    method_name  year   units_of_measure  \\\n",
       "6982                                        NaN  2012  Parts per billion   \n",
       "19686  INSTRUMENTAL - ULTRA VIOLET FLUORESCENCE  2012  Parts per billion   \n",
       "21423  INSTRUMENTAL - ULTRA VIOLET FLUORESCENCE  2012  Parts per billion   \n",
       "27616                                       NaN  2012  Parts per billion   \n",
       "\n",
       "      event_type  observation_count  arithmetic_mean  first_max_value  \\\n",
       "6982   No Events               2657         1.777418             15.3   \n",
       "19686  No Events               8040         4.041667             18.0   \n",
       "21423  No Events               8040         1.794652             18.0   \n",
       "27616  No Events                336         1.793155              9.4   \n",
       "\n",
       "       ninety_percentile  ten_percentile state_name city_name  \n",
       "6982                 4.0             0.0   Illinois   Chicago  \n",
       "19686                8.0             1.0   Illinois   Chicago  \n",
       "21423                4.0             0.0   Illinois   Chicago  \n",
       "27616                3.5             0.3   Illinois   Chicago  "
      ]
     },
     "execution_count": 58,
     "metadata": {},
     "output_type": "execute_result"
    }
   ],
   "source": [
    "top_city_annual[(top_city_annual['city_name']=='Chicago')&(top_city_annual['year']==2012)&\n",
    "               (top_city_annual['parameter_name'].str.contains('Sulfur'))]"
   ]
  },
  {
   "cell_type": "code",
   "execution_count": 34,
   "metadata": {
    "collapsed": false,
    "deletable": true,
    "editable": true
   },
   "outputs": [],
   "source": [
    "pollutant_codes={'Ozone':44201,'PM25':88101,'PM10':81102,'CO':42101,'SO2':42401,'NO2':42602,'Temp':62101,'Lead':88128}\n",
    "\n",
    "def get_pollutant_value(df_full,code):\n",
    "    #extract entries for this pollutant\n",
    "    df = df_full[df_full['parameter_code']==code]\n",
    "    if df.empty:\n",
    "        return np.NAN\n",
    "    elif code == pollutant_codes['Ozone']:\n",
    "        try: \n",
    "            value = max(df['arithmetic_mean'][(df['pollutant_standard']=='Ozone 8-hour 2015')&\n",
    "                                          (df['event_type']=='Events Excluded')].values)\n",
    "        except:\n",
    "            value = max(df['arithmetic_mean'][(df['sample_duration'].str.contains('8'))])\n",
    "    elif code == pollutant_codes['PM25']:\n",
    "        try:\n",
    "            value = max(df['arithmetic_mean'][(df['pollutant_standard']=='PM25 24-hour 2006')])\n",
    "        except:\n",
    "            value = max(df['arithmetic_mean'])\n",
    "    elif code == pollutant_codes['PM10']:\n",
    "        try:\n",
    "            value = max(df['arithmetic_mean'][(df['pollutant_standard']=='PM10 24-hour 2006')])\n",
    "        except:\n",
    "            value = max(df['arithmetic_mean'])\n",
    "    elif code == pollutant_codes['CO']:\n",
    "        try:\n",
    "            value = max(df['arithmetic_mean'][(df['pollutant_standard']=='CO 8-hour 1971')])\n",
    "        except:\n",
    "            value = max(df['arithmetic_mean'][(df['sample_duration'].str.contains('8'))])\n",
    "    elif code == pollutant_codes['SO2']:\n",
    "        try:\n",
    "            value = max(df['arithmetic_mean'][(df['pollutant_standard']=='SO2 1-hour 1971')])\n",
    "        except:\n",
    "            value = max(df['arithmetic_mean'][(df['sample_duration'].str.contains('1'))])\n",
    "    elif code == pollutant_codes['NO2']:\n",
    "        try:\n",
    "            value = max(df['arithmetic_mean'][(df['pollutant_standard']=='NO2 1-hour')])\n",
    "        except:\n",
    "            value = max(df['arithmetic_mean'][(df['sample_duration'].str.contains('1'))])\n",
    "    return value\n",
    "        "
   ]
  },
  {
   "cell_type": "code",
   "execution_count": 6,
   "metadata": {
    "collapsed": true,
    "deletable": true,
    "editable": true
   },
   "outputs": [],
   "source": [
    "def get_aqi_city_year(df):\n",
    "    #input: df = dataframe for a specific city and year\n",
    "    Ozone = get_pollutant_value(df,pollutant_codes['Ozone'])\n",
    "    PM25 = get_pollutant_value(df,pollutant_codes['PM25'])\n",
    "    PM10 = get_pollutant_value(df,pollutant_codes['PM10'])\n",
    "    CO = get_pollutant_value(df,pollutant_codes['CO'])\n",
    "    SO2 = get_pollutant_value(df,pollutant_codes['SO2'])\n",
    "    NO2 = get_pollutant_value(df,pollutant_codes['NO2'])\n",
    "    aqi_list = calculate_aqi([Ozone,PM25,PM10,CO,SO2,NO2])\n",
    "    return aqi_list\n"
   ]
  },
  {
   "cell_type": "code",
   "execution_count": 35,
   "metadata": {
    "collapsed": true,
    "deletable": true,
    "editable": true
   },
   "outputs": [],
   "source": [
    "def get_aqi(df_full,city,year):\n",
    "    df = df_full[(df_full['city_name']==city)&(df_full['year']==year)]\n",
    "    aqi_list = get_aqi_city_year(df)\n",
    "    return aqi_list"
   ]
  },
  {
   "cell_type": "code",
   "execution_count": 36,
   "metadata": {
    "collapsed": false,
    "deletable": true,
    "editable": true
   },
   "outputs": [
    {
     "data": {
      "text/plain": [
       "[38, 39, 21, nan, 0, 24]"
      ]
     },
     "execution_count": 36,
     "metadata": {},
     "output_type": "execute_result"
    }
   ],
   "source": [
    "#testing\n",
    "aqi_list = get_aqi(top_city_annual,'Austin',2015)\n",
    "aqi_list"
   ]
  },
  {
   "cell_type": "markdown",
   "metadata": {
    "deletable": true,
    "editable": true
   },
   "source": [
    "#### Creating a new table for AQI"
   ]
  },
  {
   "cell_type": "code",
   "execution_count": 37,
   "metadata": {
    "collapsed": false,
    "deletable": true,
    "editable": true
   },
   "outputs": [],
   "source": [
    "groups = top_city_annual.groupby(['city_name','year'])"
   ]
  },
  {
   "cell_type": "code",
   "execution_count": 38,
   "metadata": {
    "collapsed": false,
    "deletable": true,
    "editable": true
   },
   "outputs": [],
   "source": [
    "city_aqi = pd.DataFrame(groups.groups.keys(),columns=['city_name','year'])"
   ]
  },
  {
   "cell_type": "code",
   "execution_count": 39,
   "metadata": {
    "collapsed": false,
    "deletable": true,
    "editable": true
   },
   "outputs": [
    {
     "data": {
      "text/html": [
       "<div>\n",
       "<table border=\"1\" class=\"dataframe\">\n",
       "  <thead>\n",
       "    <tr style=\"text-align: right;\">\n",
       "      <th></th>\n",
       "      <th>city_name</th>\n",
       "      <th>year</th>\n",
       "    </tr>\n",
       "  </thead>\n",
       "  <tbody>\n",
       "    <tr>\n",
       "      <th>0</th>\n",
       "      <td>San Francisco</td>\n",
       "      <td>1995</td>\n",
       "    </tr>\n",
       "    <tr>\n",
       "      <th>1</th>\n",
       "      <td>Jacksonville</td>\n",
       "      <td>2008</td>\n",
       "    </tr>\n",
       "    <tr>\n",
       "      <th>2</th>\n",
       "      <td>Indianapolis</td>\n",
       "      <td>2016</td>\n",
       "    </tr>\n",
       "    <tr>\n",
       "      <th>3</th>\n",
       "      <td>Jacksonville</td>\n",
       "      <td>2016</td>\n",
       "    </tr>\n",
       "    <tr>\n",
       "      <th>4</th>\n",
       "      <td>Fort Worth</td>\n",
       "      <td>2007</td>\n",
       "    </tr>\n",
       "  </tbody>\n",
       "</table>\n",
       "</div>"
      ],
      "text/plain": [
       "       city_name  year\n",
       "0  San Francisco  1995\n",
       "1   Jacksonville  2008\n",
       "2   Indianapolis  2016\n",
       "3   Jacksonville  2016\n",
       "4     Fort Worth  2007"
      ]
     },
     "execution_count": 39,
     "metadata": {},
     "output_type": "execute_result"
    }
   ],
   "source": [
    "city_aqi.head()"
   ]
  },
  {
   "cell_type": "code",
   "execution_count": 41,
   "metadata": {
    "collapsed": false,
    "deletable": true,
    "editable": true
   },
   "outputs": [],
   "source": [
    "aqi_series = city_aqi.apply(lambda df: get_aqi(top_city_annual,df['city_name'],df['year']),axis=1)"
   ]
  },
  {
   "cell_type": "code",
   "execution_count": 43,
   "metadata": {
    "collapsed": false,
    "deletable": true,
    "editable": true
   },
   "outputs": [
    {
     "data": {
      "text/plain": [
       "0        [24, nan, 22, 13, 5, 32]\n",
       "1          [40, 37, 22, 4, 5, 19]\n",
       "2    [nan, nan, nan, 6, nan, nan]\n",
       "3          [37, 38, 16, 5, 2, 19]\n",
       "4       [44, 48, nan, 3, nan, 29]\n",
       "dtype: object"
      ]
     },
     "execution_count": 43,
     "metadata": {},
     "output_type": "execute_result"
    }
   ],
   "source": [
    "aqi_series.head()"
   ]
  },
  {
   "cell_type": "code",
   "execution_count": 44,
   "metadata": {
    "collapsed": true,
    "deletable": true,
    "editable": true
   },
   "outputs": [],
   "source": [
    "aqi_df = pd.DataFrame(aqi_series.tolist(),columns=['Ozone','PM2.5','PM10','Carbon monoxide',\n",
    "                                                   'Sulfur dioxide','Nitrogen dioxide'])"
   ]
  },
  {
   "cell_type": "code",
   "execution_count": 45,
   "metadata": {
    "collapsed": false,
    "deletable": true,
    "editable": true
   },
   "outputs": [
    {
     "data": {
      "text/html": [
       "<div>\n",
       "<table border=\"1\" class=\"dataframe\">\n",
       "  <thead>\n",
       "    <tr style=\"text-align: right;\">\n",
       "      <th></th>\n",
       "      <th>Ozone</th>\n",
       "      <th>PM2.5</th>\n",
       "      <th>PM10</th>\n",
       "      <th>Carbon monoxide</th>\n",
       "      <th>Sulfur dioxide</th>\n",
       "      <th>Nitrogen dioxide</th>\n",
       "    </tr>\n",
       "  </thead>\n",
       "  <tbody>\n",
       "    <tr>\n",
       "      <th>0</th>\n",
       "      <td>24.0</td>\n",
       "      <td>NaN</td>\n",
       "      <td>22.0</td>\n",
       "      <td>13.0</td>\n",
       "      <td>5.0</td>\n",
       "      <td>32.0</td>\n",
       "    </tr>\n",
       "    <tr>\n",
       "      <th>1</th>\n",
       "      <td>40.0</td>\n",
       "      <td>37.0</td>\n",
       "      <td>22.0</td>\n",
       "      <td>4.0</td>\n",
       "      <td>5.0</td>\n",
       "      <td>19.0</td>\n",
       "    </tr>\n",
       "    <tr>\n",
       "      <th>2</th>\n",
       "      <td>NaN</td>\n",
       "      <td>NaN</td>\n",
       "      <td>NaN</td>\n",
       "      <td>6.0</td>\n",
       "      <td>NaN</td>\n",
       "      <td>NaN</td>\n",
       "    </tr>\n",
       "    <tr>\n",
       "      <th>3</th>\n",
       "      <td>37.0</td>\n",
       "      <td>38.0</td>\n",
       "      <td>16.0</td>\n",
       "      <td>5.0</td>\n",
       "      <td>2.0</td>\n",
       "      <td>19.0</td>\n",
       "    </tr>\n",
       "    <tr>\n",
       "      <th>4</th>\n",
       "      <td>44.0</td>\n",
       "      <td>48.0</td>\n",
       "      <td>NaN</td>\n",
       "      <td>3.0</td>\n",
       "      <td>NaN</td>\n",
       "      <td>29.0</td>\n",
       "    </tr>\n",
       "  </tbody>\n",
       "</table>\n",
       "</div>"
      ],
      "text/plain": [
       "   Ozone  PM2.5  PM10  Carbon monoxide  Sulfur dioxide  Nitrogen dioxide\n",
       "0   24.0    NaN  22.0             13.0             5.0              32.0\n",
       "1   40.0   37.0  22.0              4.0             5.0              19.0\n",
       "2    NaN    NaN   NaN              6.0             NaN               NaN\n",
       "3   37.0   38.0  16.0              5.0             2.0              19.0\n",
       "4   44.0   48.0   NaN              3.0             NaN              29.0"
      ]
     },
     "execution_count": 45,
     "metadata": {},
     "output_type": "execute_result"
    }
   ],
   "source": [
    "aqi_df.head()"
   ]
  },
  {
   "cell_type": "code",
   "execution_count": 46,
   "metadata": {
    "collapsed": true,
    "deletable": true,
    "editable": true
   },
   "outputs": [],
   "source": [
    "city_aqi = pd.concat([city_aqi,aqi_df],axis=1)"
   ]
  },
  {
   "cell_type": "code",
   "execution_count": 78,
   "metadata": {
    "collapsed": true,
    "deletable": true,
    "editable": true
   },
   "outputs": [],
   "source": [
    "city_aqi.to_csv('city_aqi.csv')"
   ]
  },
  {
   "cell_type": "code",
   "execution_count": 49,
   "metadata": {
    "collapsed": false,
    "deletable": true,
    "editable": true
   },
   "outputs": [
    {
     "data": {
      "text/html": [
       "<div>\n",
       "<table border=\"1\" class=\"dataframe\">\n",
       "  <thead>\n",
       "    <tr style=\"text-align: right;\">\n",
       "      <th></th>\n",
       "      <th>city_name</th>\n",
       "      <th>year</th>\n",
       "      <th>Ozone</th>\n",
       "      <th>PM2.5</th>\n",
       "      <th>PM10</th>\n",
       "      <th>Carbon monoxide</th>\n",
       "      <th>Sulfur dioxide</th>\n",
       "      <th>Nitrogen dioxide</th>\n",
       "    </tr>\n",
       "  </thead>\n",
       "  <tbody>\n",
       "    <tr>\n",
       "      <th>0</th>\n",
       "      <td>San Francisco</td>\n",
       "      <td>1995</td>\n",
       "      <td>24.0</td>\n",
       "      <td>NaN</td>\n",
       "      <td>22.0</td>\n",
       "      <td>13.0</td>\n",
       "      <td>5.0</td>\n",
       "      <td>32.0</td>\n",
       "    </tr>\n",
       "    <tr>\n",
       "      <th>1</th>\n",
       "      <td>Jacksonville</td>\n",
       "      <td>2008</td>\n",
       "      <td>40.0</td>\n",
       "      <td>37.0</td>\n",
       "      <td>22.0</td>\n",
       "      <td>4.0</td>\n",
       "      <td>5.0</td>\n",
       "      <td>19.0</td>\n",
       "    </tr>\n",
       "    <tr>\n",
       "      <th>2</th>\n",
       "      <td>Indianapolis</td>\n",
       "      <td>2016</td>\n",
       "      <td>NaN</td>\n",
       "      <td>NaN</td>\n",
       "      <td>NaN</td>\n",
       "      <td>6.0</td>\n",
       "      <td>NaN</td>\n",
       "      <td>NaN</td>\n",
       "    </tr>\n",
       "    <tr>\n",
       "      <th>3</th>\n",
       "      <td>Jacksonville</td>\n",
       "      <td>2016</td>\n",
       "      <td>37.0</td>\n",
       "      <td>38.0</td>\n",
       "      <td>16.0</td>\n",
       "      <td>5.0</td>\n",
       "      <td>2.0</td>\n",
       "      <td>19.0</td>\n",
       "    </tr>\n",
       "    <tr>\n",
       "      <th>4</th>\n",
       "      <td>Fort Worth</td>\n",
       "      <td>2007</td>\n",
       "      <td>44.0</td>\n",
       "      <td>48.0</td>\n",
       "      <td>NaN</td>\n",
       "      <td>3.0</td>\n",
       "      <td>NaN</td>\n",
       "      <td>29.0</td>\n",
       "    </tr>\n",
       "    <tr>\n",
       "      <th>5</th>\n",
       "      <td>Denver</td>\n",
       "      <td>1999</td>\n",
       "      <td>40.0</td>\n",
       "      <td>37.0</td>\n",
       "      <td>29.0</td>\n",
       "      <td>13.0</td>\n",
       "      <td>24.0</td>\n",
       "      <td>52.0</td>\n",
       "    </tr>\n",
       "    <tr>\n",
       "      <th>6</th>\n",
       "      <td>Indianapolis</td>\n",
       "      <td>1990</td>\n",
       "      <td>43.0</td>\n",
       "      <td>NaN</td>\n",
       "      <td>37.0</td>\n",
       "      <td>15.0</td>\n",
       "      <td>51.0</td>\n",
       "      <td>28.0</td>\n",
       "    </tr>\n",
       "    <tr>\n",
       "      <th>7</th>\n",
       "      <td>Philadelphia</td>\n",
       "      <td>2003</td>\n",
       "      <td>42.0</td>\n",
       "      <td>59.0</td>\n",
       "      <td>27.0</td>\n",
       "      <td>10.0</td>\n",
       "      <td>20.0</td>\n",
       "      <td>35.0</td>\n",
       "    </tr>\n",
       "    <tr>\n",
       "      <th>8</th>\n",
       "      <td>Columbus</td>\n",
       "      <td>2011</td>\n",
       "      <td>39.0</td>\n",
       "      <td>49.0</td>\n",
       "      <td>21.0</td>\n",
       "      <td>2.0</td>\n",
       "      <td>NaN</td>\n",
       "      <td>NaN</td>\n",
       "    </tr>\n",
       "    <tr>\n",
       "      <th>9</th>\n",
       "      <td>Houston</td>\n",
       "      <td>2010</td>\n",
       "      <td>37.0</td>\n",
       "      <td>51.0</td>\n",
       "      <td>32.0</td>\n",
       "      <td>2.0</td>\n",
       "      <td>8.0</td>\n",
       "      <td>28.0</td>\n",
       "    </tr>\n",
       "  </tbody>\n",
       "</table>\n",
       "</div>"
      ],
      "text/plain": [
       "       city_name  year  Ozone  PM2.5  PM10  Carbon monoxide  Sulfur dioxide  \\\n",
       "0  San Francisco  1995   24.0    NaN  22.0             13.0             5.0   \n",
       "1   Jacksonville  2008   40.0   37.0  22.0              4.0             5.0   \n",
       "2   Indianapolis  2016    NaN    NaN   NaN              6.0             NaN   \n",
       "3   Jacksonville  2016   37.0   38.0  16.0              5.0             2.0   \n",
       "4     Fort Worth  2007   44.0   48.0   NaN              3.0             NaN   \n",
       "5         Denver  1999   40.0   37.0  29.0             13.0            24.0   \n",
       "6   Indianapolis  1990   43.0    NaN  37.0             15.0            51.0   \n",
       "7   Philadelphia  2003   42.0   59.0  27.0             10.0            20.0   \n",
       "8       Columbus  2011   39.0   49.0  21.0              2.0             NaN   \n",
       "9        Houston  2010   37.0   51.0  32.0              2.0             8.0   \n",
       "\n",
       "   Nitrogen dioxide  \n",
       "0              32.0  \n",
       "1              19.0  \n",
       "2               NaN  \n",
       "3              19.0  \n",
       "4              29.0  \n",
       "5              52.0  \n",
       "6              28.0  \n",
       "7              35.0  \n",
       "8               NaN  \n",
       "9              28.0  "
      ]
     },
     "execution_count": 49,
     "metadata": {},
     "output_type": "execute_result"
    }
   ],
   "source": [
    "city_aqi.head(10)"
   ]
  },
  {
   "cell_type": "code",
   "execution_count": 54,
   "metadata": {
    "collapsed": false,
    "deletable": true,
    "editable": true
   },
   "outputs": [],
   "source": [
    "austin = city_aqi[city_aqi['city_name']=='Austin'].sort_values('year')"
   ]
  },
  {
   "cell_type": "code",
   "execution_count": 67,
   "metadata": {
    "collapsed": false,
    "deletable": true,
    "editable": true
   },
   "outputs": [],
   "source": [
    "def plot_city(city):\n",
    "    city = city_aqi[city_aqi['city_name']==city].sort_values('year')\n",
    "    fig, ax = plt.subplots()\n",
    "    fig.set_size_inches(10, 8)\n",
    "    ax.plot(city['year'],city['Ozone'],'bo-',label='Ozone')\n",
    "    ax.plot(city['year'],city['Carbon monoxide'],'ro-',label='CO')\n",
    "    ax.plot(city['year'],city['PM10'],'go-',label='PM10')\n",
    "    ax.plot(city['year'],city['PM2.5'],'yo-',label='PM2.5')\n",
    "    ax.legend()\n",
    "    plt.show()"
   ]
  },
  {
   "cell_type": "code",
   "execution_count": 68,
   "metadata": {
    "collapsed": false,
    "deletable": true,
    "editable": true
   },
   "outputs": [
    {
     "data": {
      "image/png": "[encoded data removed]",
      "text/plain": [
       "<matplotlib.figure.Figure at 0x11baa4650>"
      ]
     },
     "metadata": {},
     "output_type": "display_data"
    }
   ],
   "source": [
    "plot_city('Los Angeles')"
   ]
  },
  {
   "cell_type": "markdown",
   "metadata": {
    "collapsed": true,
    "deletable": true,
    "editable": true
   },
   "source": [
    "### Looking at 2016 Data"
   ]
  },
  {
   "cell_type": "code",
   "execution_count": 3,
   "metadata": {
    "collapsed": false,
    "deletable": true,
    "editable": true
   },
   "outputs": [],
   "source": [
    "data2016 = annual[annual['year']==2016]"
   ]
  },
  {
   "cell_type": "code",
   "execution_count": 87,
   "metadata": {
    "collapsed": false,
    "deletable": true,
    "editable": true
   },
   "outputs": [
    {
     "data": {
      "text/plain": [
       "(18079, 55)"
      ]
     },
     "execution_count": 87,
     "metadata": {},
     "output_type": "execute_result"
    }
   ],
   "source": [
    "data2016.shape"
   ]
  },
  {
   "cell_type": "code",
   "execution_count": 11,
   "metadata": {
    "collapsed": false,
    "deletable": true,
    "editable": true
   },
   "outputs": [
    {
     "data": {
      "text/plain": [
       "PM2.5 - Local Conditions    6371\n",
       "Ozone                       5482\n",
       "Sulfur dioxide              2149\n",
       "PM10 Total 0-10um STP       1501\n",
       "Nitrogen dioxide (NO2)       930\n",
       "Outdoor Temperature          853\n",
       "Carbon monoxide              638\n",
       "Lead PM2.5 LC                155\n",
       "Name: parameter_name, dtype: int64"
      ]
     },
     "execution_count": 11,
     "metadata": {},
     "output_type": "execute_result"
    }
   ],
   "source": [
    "data2016['parameter_name'].value_counts()"
   ]
  },
  {
   "cell_type": "markdown",
   "metadata": {
    "deletable": true,
    "editable": true
   },
   "source": [
    "#### Adding station data"
   ]
  },
  {
   "cell_type": "code",
   "execution_count": 4,
   "metadata": {
    "collapsed": true,
    "deletable": true,
    "editable": true
   },
   "outputs": [],
   "source": [
    "stations = pd.read_csv('aqs_sites.csv')\n",
    "columns_list = ['State Code','County Code','Site Number','Elevation','Land Use','Location Setting','Local Site Name']"
   ]
  },
  {
   "cell_type": "code",
   "execution_count": 30,
   "metadata": {
    "collapsed": false,
    "deletable": true,
    "editable": true
   },
   "outputs": [
    {
     "data": {
      "text/plain": [
       "Index([u'State Code', u'County Code', u'Site Number', u'Latitude',\n",
       "       u'Longitude', u'Datum', u'Elevation', u'Land Use', u'Location Setting',\n",
       "       u'Site Established Date', u'Site Closed Date', u'Met Site State Code',\n",
       "       u'Met Site County Code', u'Met Site Site Number', u'Met Site Type',\n",
       "       u'Met Site Distance', u'Met Site Direction', u'GMT Offset',\n",
       "       u'Owning Agency', u'Local Site Name', u'Address', u'Zip Code',\n",
       "       u'State Name', u'County Name', u'City Name', u'CBSA Name',\n",
       "       u'Tribe Name', u'Extraction Date'],\n",
       "      dtype='object')"
      ]
     },
     "execution_count": 30,
     "metadata": {},
     "output_type": "execute_result"
    }
   ],
   "source": [
    "stations.columns"
   ]
  },
  {
   "cell_type": "markdown",
   "metadata": {
    "deletable": true,
    "editable": true
   },
   "source": [
    "Clean up data before merging"
   ]
  },
  {
   "cell_type": "code",
   "execution_count": 5,
   "metadata": {
    "collapsed": false,
    "deletable": true,
    "editable": true
   },
   "outputs": [
    {
     "name": "stderr",
     "output_type": "stream",
     "text": [
      "/Users/pear/anaconda/lib/python2.7/site-packages/pandas/core/indexing.py:461: SettingWithCopyWarning: \n",
      "A value is trying to be set on a copy of a slice from a DataFrame.\n",
      "Try using .loc[row_indexer,col_indexer] = value instead\n",
      "\n",
      "See the caveats in the documentation: http://pandas.pydata.org/pandas-docs/stable/indexing.html#indexing-view-versus-copy\n",
      "  self.obj[item] = s\n"
     ]
    }
   ],
   "source": [
    "#State code columns have mixed types data. Need to convert them to int\n",
    "\n",
    "def stringToNum(x):\n",
    "    try:\n",
    "        x = x.lstrip('0')\n",
    "        x = int(x)\n",
    "    except:\n",
    "        pass\n",
    "    return x\n",
    "\n",
    "stations.loc[:,'State Code'] = stations['State Code'].map(stringToNum)\n",
    "data2016.loc[:,'state_code'] = data2016['state_code'].map(stringToNum)"
   ]
  },
  {
   "cell_type": "code",
   "execution_count": 6,
   "metadata": {
    "collapsed": false,
    "deletable": true,
    "editable": true
   },
   "outputs": [],
   "source": [
    "data2016 = pd.merge(data2016,stations[columns_list],how='left',\n",
    "                    left_on=['state_code','county_code','site_num'],\n",
    "                    right_on=['State Code','County Code','Site Number'])"
   ]
  },
  {
   "cell_type": "code",
   "execution_count": 7,
   "metadata": {
    "collapsed": false,
    "deletable": true,
    "editable": true
   },
   "outputs": [
    {
     "data": {
      "text/plain": [
       "(18079, 62)"
      ]
     },
     "execution_count": 7,
     "metadata": {},
     "output_type": "execute_result"
    }
   ],
   "source": [
    "data2016.shape"
   ]
  },
  {
   "cell_type": "code",
   "execution_count": 8,
   "metadata": {
    "collapsed": true,
    "deletable": true,
    "editable": true
   },
   "outputs": [],
   "source": [
    "#write to file \n",
    "data2016.to_csv('annual_aqs_2016.csv')"
   ]
  },
  {
   "cell_type": "code",
   "execution_count": 2,
   "metadata": {
    "collapsed": true
   },
   "outputs": [],
   "source": [
    "data2016 = pd.read_csv('annual_aqs_2016.csv', index_col=0)"
   ]
  },
  {
   "cell_type": "markdown",
   "metadata": {},
   "source": [
    "Looking at mean by location types"
   ]
  },
  {
   "cell_type": "markdown",
   "metadata": {},
   "source": [
    "Removing duplicates.\n",
    "We are selecting the row by first only keep events type 'excluded'. Then select the row with the maximum mean."
   ]
  },
  {
   "cell_type": "code",
   "execution_count": 65,
   "metadata": {
    "collapsed": false
   },
   "outputs": [],
   "source": [
    "#Removing duplicates so we only have one row for each site + pollutant\n",
    "\n",
    "data2016_nodup = data2016[(~data2016['event_type'].str.contains('Incl'))] \\\n",
    "    .sort_values(by='arithmetic_mean',ascending=False).drop_duplicates(subset=[\n",
    "    'state_code','county_code','site_num','parameter_name'])"
   ]
  },
  {
   "cell_type": "code",
   "execution_count": 66,
   "metadata": {
    "collapsed": false
   },
   "outputs": [
    {
     "data": {
      "text/plain": [
       "1    5055\n",
       "Name: arithmetic_mean, dtype: int64"
      ]
     },
     "execution_count": 66,
     "metadata": {},
     "output_type": "execute_result"
    }
   ],
   "source": [
    "#Checking that we only have one row per each\n",
    "data2016_nodup.groupby(by=['state_code','county_code','site_num','parameter_name'])['arithmetic_mean'] \\\n",
    "    .agg('count').value_counts()"
   ]
  },
  {
   "cell_type": "code",
   "execution_count": 67,
   "metadata": {
    "collapsed": false
   },
   "outputs": [
    {
     "data": {
      "text/plain": [
       "No Events                    4861\n",
       "Concurred Events Excluded     192\n",
       "Events Excluded                 2\n",
       "Name: event_type, dtype: int64"
      ]
     },
     "execution_count": 67,
     "metadata": {},
     "output_type": "execute_result"
    }
   ],
   "source": [
    "#Double checking that we don't have any entries of 'events included' types\n",
    "data2016_nodup['event_type'].value_counts()"
   ]
  },
  {
   "cell_type": "markdown",
   "metadata": {},
   "source": [
    "Now we can look at average by land types. The columns we are interested in is 'Land Use' and 'Location Setting'."
   ]
  },
  {
   "cell_type": "code",
   "execution_count": 72,
   "metadata": {
    "collapsed": false
   },
   "outputs": [
    {
     "data": {
      "text/html": [
       "<div>\n",
       "<table border=\"1\" class=\"dataframe\">\n",
       "  <thead>\n",
       "    <tr style=\"text-align: right;\">\n",
       "      <th></th>\n",
       "      <th></th>\n",
       "      <th>mean</th>\n",
       "      <th>std</th>\n",
       "    </tr>\n",
       "    <tr>\n",
       "      <th>parameter_name</th>\n",
       "      <th>Land Use</th>\n",
       "      <th></th>\n",
       "      <th></th>\n",
       "    </tr>\n",
       "  </thead>\n",
       "  <tbody>\n",
       "    <tr>\n",
       "      <th rowspan=\"8\" valign=\"top\">Carbon monoxide</th>\n",
       "      <th>AGRICULTURAL</th>\n",
       "      <td>0.182740</td>\n",
       "      <td>0.074183</td>\n",
       "    </tr>\n",
       "    <tr>\n",
       "      <th>BLIGHTED AREAS</th>\n",
       "      <td>0.324109</td>\n",
       "      <td>0.232812</td>\n",
       "    </tr>\n",
       "    <tr>\n",
       "      <th>COMMERCIAL</th>\n",
       "      <td>0.313679</td>\n",
       "      <td>0.149334</td>\n",
       "    </tr>\n",
       "    <tr>\n",
       "      <th>FOREST</th>\n",
       "      <td>0.165924</td>\n",
       "      <td>0.047014</td>\n",
       "    </tr>\n",
       "    <tr>\n",
       "      <th>INDUSTRIAL</th>\n",
       "      <td>0.382988</td>\n",
       "      <td>0.420772</td>\n",
       "    </tr>\n",
       "    <tr>\n",
       "      <th>MILITARY RESERVATION</th>\n",
       "      <td>0.164680</td>\n",
       "      <td>NaN</td>\n",
       "    </tr>\n",
       "    <tr>\n",
       "      <th>MOBILE</th>\n",
       "      <td>0.377744</td>\n",
       "      <td>0.206180</td>\n",
       "    </tr>\n",
       "    <tr>\n",
       "      <th>RESIDENTIAL</th>\n",
       "      <td>0.299893</td>\n",
       "      <td>0.135705</td>\n",
       "    </tr>\n",
       "    <tr>\n",
       "      <th rowspan=\"7\" valign=\"top\">Lead PM2.5 LC</th>\n",
       "      <th>AGRICULTURAL</th>\n",
       "      <td>0.005363</td>\n",
       "      <td>0.001392</td>\n",
       "    </tr>\n",
       "    <tr>\n",
       "      <th>BLIGHTED AREAS</th>\n",
       "      <td>0.010222</td>\n",
       "      <td>NaN</td>\n",
       "    </tr>\n",
       "    <tr>\n",
       "      <th>COMMERCIAL</th>\n",
       "      <td>0.007255</td>\n",
       "      <td>0.005318</td>\n",
       "    </tr>\n",
       "    <tr>\n",
       "      <th>FOREST</th>\n",
       "      <td>0.005101</td>\n",
       "      <td>0.001280</td>\n",
       "    </tr>\n",
       "    <tr>\n",
       "      <th>INDUSTRIAL</th>\n",
       "      <td>0.006461</td>\n",
       "      <td>0.002391</td>\n",
       "    </tr>\n",
       "    <tr>\n",
       "      <th>MOBILE</th>\n",
       "      <td>0.004334</td>\n",
       "      <td>0.003300</td>\n",
       "    </tr>\n",
       "    <tr>\n",
       "      <th>RESIDENTIAL</th>\n",
       "      <td>0.005764</td>\n",
       "      <td>0.004143</td>\n",
       "    </tr>\n",
       "    <tr>\n",
       "      <th rowspan=\"10\" valign=\"top\">Nitrogen dioxide (NO2)</th>\n",
       "      <th>AGRICULTURAL</th>\n",
       "      <td>7.293459</td>\n",
       "      <td>6.053452</td>\n",
       "    </tr>\n",
       "    <tr>\n",
       "      <th>BLIGHTED AREAS</th>\n",
       "      <td>25.697850</td>\n",
       "      <td>15.435070</td>\n",
       "    </tr>\n",
       "    <tr>\n",
       "      <th>COMMERCIAL</th>\n",
       "      <td>20.561797</td>\n",
       "      <td>8.710860</td>\n",
       "    </tr>\n",
       "    <tr>\n",
       "      <th>DESERT</th>\n",
       "      <td>6.934877</td>\n",
       "      <td>4.656539</td>\n",
       "    </tr>\n",
       "    <tr>\n",
       "      <th>FOREST</th>\n",
       "      <td>5.454336</td>\n",
       "      <td>4.372524</td>\n",
       "    </tr>\n",
       "    <tr>\n",
       "      <th>INDUSTRIAL</th>\n",
       "      <td>16.742238</td>\n",
       "      <td>10.992730</td>\n",
       "    </tr>\n",
       "    <tr>\n",
       "      <th>MILITARY RESERVATION</th>\n",
       "      <td>13.041065</td>\n",
       "      <td>7.916369</td>\n",
       "    </tr>\n",
       "    <tr>\n",
       "      <th>MOBILE</th>\n",
       "      <td>24.168347</td>\n",
       "      <td>8.021467</td>\n",
       "    </tr>\n",
       "    <tr>\n",
       "      <th>RESIDENTIAL</th>\n",
       "      <td>17.924260</td>\n",
       "      <td>8.325888</td>\n",
       "    </tr>\n",
       "    <tr>\n",
       "      <th>UNKNOWN</th>\n",
       "      <td>13.609890</td>\n",
       "      <td>NaN</td>\n",
       "    </tr>\n",
       "    <tr>\n",
       "      <th rowspan=\"5\" valign=\"top\">Outdoor Temperature</th>\n",
       "      <th>AGRICULTURAL</th>\n",
       "      <td>57.185289</td>\n",
       "      <td>8.583413</td>\n",
       "    </tr>\n",
       "    <tr>\n",
       "      <th>BLIGHTED AREAS</th>\n",
       "      <td>53.685713</td>\n",
       "      <td>5.659640</td>\n",
       "    </tr>\n",
       "    <tr>\n",
       "      <th>COMMERCIAL</th>\n",
       "      <td>61.127187</td>\n",
       "      <td>10.174457</td>\n",
       "    </tr>\n",
       "    <tr>\n",
       "      <th>DESERT</th>\n",
       "      <td>62.989945</td>\n",
       "      <td>10.659806</td>\n",
       "    </tr>\n",
       "    <tr>\n",
       "      <th>FOREST</th>\n",
       "      <td>53.024366</td>\n",
       "      <td>8.902814</td>\n",
       "    </tr>\n",
       "    <tr>\n",
       "      <th>...</th>\n",
       "      <th>...</th>\n",
       "      <td>...</td>\n",
       "      <td>...</td>\n",
       "    </tr>\n",
       "    <tr>\n",
       "      <th rowspan=\"2\" valign=\"top\">Ozone</th>\n",
       "      <th>RESIDENTIAL</th>\n",
       "      <td>0.048417</td>\n",
       "      <td>0.006345</td>\n",
       "    </tr>\n",
       "    <tr>\n",
       "      <th>UNKNOWN</th>\n",
       "      <td>0.049474</td>\n",
       "      <td>NaN</td>\n",
       "    </tr>\n",
       "    <tr>\n",
       "      <th rowspan=\"9\" valign=\"top\">PM10 Total 0-10um STP</th>\n",
       "      <th>AGRICULTURAL</th>\n",
       "      <td>22.208506</td>\n",
       "      <td>16.145670</td>\n",
       "    </tr>\n",
       "    <tr>\n",
       "      <th>BLIGHTED AREAS</th>\n",
       "      <td>25.276596</td>\n",
       "      <td>NaN</td>\n",
       "    </tr>\n",
       "    <tr>\n",
       "      <th>COMMERCIAL</th>\n",
       "      <td>19.834654</td>\n",
       "      <td>7.734901</td>\n",
       "    </tr>\n",
       "    <tr>\n",
       "      <th>DESERT</th>\n",
       "      <td>18.768884</td>\n",
       "      <td>12.708066</td>\n",
       "    </tr>\n",
       "    <tr>\n",
       "      <th>FOREST</th>\n",
       "      <td>11.717149</td>\n",
       "      <td>6.522771</td>\n",
       "    </tr>\n",
       "    <tr>\n",
       "      <th>INDUSTRIAL</th>\n",
       "      <td>18.857423</td>\n",
       "      <td>9.219051</td>\n",
       "    </tr>\n",
       "    <tr>\n",
       "      <th>MILITARY RESERVATION</th>\n",
       "      <td>14.708096</td>\n",
       "      <td>3.137763</td>\n",
       "    </tr>\n",
       "    <tr>\n",
       "      <th>MOBILE</th>\n",
       "      <td>18.510069</td>\n",
       "      <td>7.399819</td>\n",
       "    </tr>\n",
       "    <tr>\n",
       "      <th>RESIDENTIAL</th>\n",
       "      <td>19.634630</td>\n",
       "      <td>8.275231</td>\n",
       "    </tr>\n",
       "    <tr>\n",
       "      <th rowspan=\"9\" valign=\"top\">PM2.5 - Local Conditions</th>\n",
       "      <th>AGRICULTURAL</th>\n",
       "      <td>7.005366</td>\n",
       "      <td>2.247448</td>\n",
       "    </tr>\n",
       "    <tr>\n",
       "      <th>BLIGHTED AREAS</th>\n",
       "      <td>7.874708</td>\n",
       "      <td>0.559301</td>\n",
       "    </tr>\n",
       "    <tr>\n",
       "      <th>COMMERCIAL</th>\n",
       "      <td>7.763655</td>\n",
       "      <td>1.919206</td>\n",
       "    </tr>\n",
       "    <tr>\n",
       "      <th>DESERT</th>\n",
       "      <td>3.652440</td>\n",
       "      <td>2.693787</td>\n",
       "    </tr>\n",
       "    <tr>\n",
       "      <th>FOREST</th>\n",
       "      <td>5.725599</td>\n",
       "      <td>2.034830</td>\n",
       "    </tr>\n",
       "    <tr>\n",
       "      <th>INDUSTRIAL</th>\n",
       "      <td>8.238252</td>\n",
       "      <td>1.997268</td>\n",
       "    </tr>\n",
       "    <tr>\n",
       "      <th>MILITARY RESERVATION</th>\n",
       "      <td>7.159762</td>\n",
       "      <td>1.045388</td>\n",
       "    </tr>\n",
       "    <tr>\n",
       "      <th>MOBILE</th>\n",
       "      <td>7.783706</td>\n",
       "      <td>3.039160</td>\n",
       "    </tr>\n",
       "    <tr>\n",
       "      <th>RESIDENTIAL</th>\n",
       "      <td>7.618944</td>\n",
       "      <td>2.020206</td>\n",
       "    </tr>\n",
       "    <tr>\n",
       "      <th rowspan=\"10\" valign=\"top\">Sulfur dioxide</th>\n",
       "      <th>AGRICULTURAL</th>\n",
       "      <td>1.760847</td>\n",
       "      <td>1.579860</td>\n",
       "    </tr>\n",
       "    <tr>\n",
       "      <th>BLIGHTED AREAS</th>\n",
       "      <td>0.871287</td>\n",
       "      <td>NaN</td>\n",
       "    </tr>\n",
       "    <tr>\n",
       "      <th>COMMERCIAL</th>\n",
       "      <td>2.499824</td>\n",
       "      <td>2.858166</td>\n",
       "    </tr>\n",
       "    <tr>\n",
       "      <th>DESERT</th>\n",
       "      <td>3.138288</td>\n",
       "      <td>2.186671</td>\n",
       "    </tr>\n",
       "    <tr>\n",
       "      <th>FOREST</th>\n",
       "      <td>6.758218</td>\n",
       "      <td>25.489803</td>\n",
       "    </tr>\n",
       "    <tr>\n",
       "      <th>INDUSTRIAL</th>\n",
       "      <td>4.994341</td>\n",
       "      <td>8.806096</td>\n",
       "    </tr>\n",
       "    <tr>\n",
       "      <th>MILITARY RESERVATION</th>\n",
       "      <td>2.474370</td>\n",
       "      <td>NaN</td>\n",
       "    </tr>\n",
       "    <tr>\n",
       "      <th>MOBILE</th>\n",
       "      <td>2.109360</td>\n",
       "      <td>2.503081</td>\n",
       "    </tr>\n",
       "    <tr>\n",
       "      <th>RESIDENTIAL</th>\n",
       "      <td>4.226064</td>\n",
       "      <td>13.249530</td>\n",
       "    </tr>\n",
       "    <tr>\n",
       "      <th>UNKNOWN</th>\n",
       "      <td>0.708155</td>\n",
       "      <td>NaN</td>\n",
       "    </tr>\n",
       "  </tbody>\n",
       "</table>\n",
       "<p>73 rows × 2 columns</p>\n",
       "</div>"
      ],
      "text/plain": [
       "                                                    mean        std\n",
       "parameter_name           Land Use                                  \n",
       "Carbon monoxide          AGRICULTURAL           0.182740   0.074183\n",
       "                         BLIGHTED AREAS         0.324109   0.232812\n",
       "                         COMMERCIAL             0.313679   0.149334\n",
       "                         FOREST                 0.165924   0.047014\n",
       "                         INDUSTRIAL             0.382988   0.420772\n",
       "                         MILITARY RESERVATION   0.164680        NaN\n",
       "                         MOBILE                 0.377744   0.206180\n",
       "                         RESIDENTIAL            0.299893   0.135705\n",
       "Lead PM2.5 LC            AGRICULTURAL           0.005363   0.001392\n",
       "                         BLIGHTED AREAS         0.010222        NaN\n",
       "                         COMMERCIAL             0.007255   0.005318\n",
       "                         FOREST                 0.005101   0.001280\n",
       "                         INDUSTRIAL             0.006461   0.002391\n",
       "                         MOBILE                 0.004334   0.003300\n",
       "                         RESIDENTIAL            0.005764   0.004143\n",
       "Nitrogen dioxide (NO2)   AGRICULTURAL           7.293459   6.053452\n",
       "                         BLIGHTED AREAS        25.697850  15.435070\n",
       "                         COMMERCIAL            20.561797   8.710860\n",
       "                         DESERT                 6.934877   4.656539\n",
       "                         FOREST                 5.454336   4.372524\n",
       "                         INDUSTRIAL            16.742238  10.992730\n",
       "                         MILITARY RESERVATION  13.041065   7.916369\n",
       "                         MOBILE                24.168347   8.021467\n",
       "                         RESIDENTIAL           17.924260   8.325888\n",
       "                         UNKNOWN               13.609890        NaN\n",
       "Outdoor Temperature      AGRICULTURAL          57.185289   8.583413\n",
       "                         BLIGHTED AREAS        53.685713   5.659640\n",
       "                         COMMERCIAL            61.127187  10.174457\n",
       "                         DESERT                62.989945  10.659806\n",
       "                         FOREST                53.024366   8.902814\n",
       "...                                                  ...        ...\n",
       "Ozone                    RESIDENTIAL            0.048417   0.006345\n",
       "                         UNKNOWN                0.049474        NaN\n",
       "PM10 Total 0-10um STP    AGRICULTURAL          22.208506  16.145670\n",
       "                         BLIGHTED AREAS        25.276596        NaN\n",
       "                         COMMERCIAL            19.834654   7.734901\n",
       "                         DESERT                18.768884  12.708066\n",
       "                         FOREST                11.717149   6.522771\n",
       "                         INDUSTRIAL            18.857423   9.219051\n",
       "                         MILITARY RESERVATION  14.708096   3.137763\n",
       "                         MOBILE                18.510069   7.399819\n",
       "                         RESIDENTIAL           19.634630   8.275231\n",
       "PM2.5 - Local Conditions AGRICULTURAL           7.005366   2.247448\n",
       "                         BLIGHTED AREAS         7.874708   0.559301\n",
       "                         COMMERCIAL             7.763655   1.919206\n",
       "                         DESERT                 3.652440   2.693787\n",
       "                         FOREST                 5.725599   2.034830\n",
       "                         INDUSTRIAL             8.238252   1.997268\n",
       "                         MILITARY RESERVATION   7.159762   1.045388\n",
       "                         MOBILE                 7.783706   3.039160\n",
       "                         RESIDENTIAL            7.618944   2.020206\n",
       "Sulfur dioxide           AGRICULTURAL           1.760847   1.579860\n",
       "                         BLIGHTED AREAS         0.871287        NaN\n",
       "                         COMMERCIAL             2.499824   2.858166\n",
       "                         DESERT                 3.138288   2.186671\n",
       "                         FOREST                 6.758218  25.489803\n",
       "                         INDUSTRIAL             4.994341   8.806096\n",
       "                         MILITARY RESERVATION   2.474370        NaN\n",
       "                         MOBILE                 2.109360   2.503081\n",
       "                         RESIDENTIAL            4.226064  13.249530\n",
       "                         UNKNOWN                0.708155        NaN\n",
       "\n",
       "[73 rows x 2 columns]"
      ]
     },
     "execution_count": 72,
     "metadata": {},
     "output_type": "execute_result"
    }
   ],
   "source": [
    "data2016_nodup.groupby(by=['parameter_name','Land Use'])['arithmetic_mean'].agg(['mean','std'])"
   ]
  },
  {
   "cell_type": "code",
   "execution_count": null,
   "metadata": {
    "collapsed": true
   },
   "outputs": [],
   "source": []
  }
 ],
 "metadata": {
  "kernelspec": {
   "display_name": "Python [default]",
   "language": "python",
   "name": "python2"
  },
  "language_info": {
   "codemirror_mode": {
    "name": "ipython",
    "version": 2
   },
   "file_extension": ".py",
   "mimetype": "text/x-python",
   "name": "python",
   "nbconvert_exporter": "python",
   "pygments_lexer": "ipython2",
   "version": "2.7.13"
  }
 },
 "nbformat": 4,
 "nbformat_minor": 0
}
